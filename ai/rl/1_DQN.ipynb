{
 "cells": [
  {
   "cell_type": "markdown",
   "metadata": {},
   "source": [
    "# Atari game: Pong"
   ]
  },
  {
   "cell_type": "code",
   "execution_count": 1,
   "metadata": {},
   "outputs": [
    {
     "ename": "ValueError",
     "evalue": "Disable frame-skipping in the original env. Otherwise, more than one frame-skip will happen as through this wrapper",
     "output_type": "error",
     "traceback": [
      "\u001b[1;31m---------------------------------------------------------------------------\u001b[0m",
      "\u001b[1;31mValueError\u001b[0m                                Traceback (most recent call last)",
      "Cell \u001b[1;32mIn[1], line 30\u001b[0m\n\u001b[0;32m     27\u001b[0m \u001b[39m# create this game from id(string)\u001b[39;00m\n\u001b[0;32m     28\u001b[0m \u001b[39m#env = gym.make('PongNoFramesKip-v4')\u001b[39;00m\n\u001b[0;32m     29\u001b[0m env \u001b[39m=\u001b[39m gym\u001b[39m.\u001b[39mmake(\u001b[39m'\u001b[39m\u001b[39mTaxi-v3\u001b[39m\u001b[39m'\u001b[39m)\n\u001b[1;32m---> 30\u001b[0m env \u001b[39m=\u001b[39m AtariPreprocessing(env, scale_obs\u001b[39m=\u001b[39;49m\u001b[39mFalse\u001b[39;49;00m, terminal_on_life_loss\u001b[39m=\u001b[39;49m\u001b[39mTrue\u001b[39;49;00m,)\n\u001b[0;32m     32\u001b[0m env \u001b[39m=\u001b[39m FrameStack(env, num_stack\u001b[39m=\u001b[39m\u001b[39m4\u001b[39m)\n\u001b[0;32m     34\u001b[0m n_actions \u001b[39m=\u001b[39m env\u001b[39m.\u001b[39maction_space\u001b[39m.\u001b[39mnp_random\n",
      "File \u001b[1;32mc:\\Users\\Administrator\\.pyenv\\pyenv-win\\versions\\3.10.11\\lib\\site-packages\\gym\\wrappers\\atari_preprocessing.py:74\u001b[0m, in \u001b[0;36mAtariPreprocessing.__init__\u001b[1;34m(self, env, noop_max, frame_skip, screen_size, terminal_on_life_loss, grayscale_obs, grayscale_newaxis, scale_obs)\u001b[0m\n\u001b[0;32m     69\u001b[0m \u001b[39mif\u001b[39;00m frame_skip \u001b[39m>\u001b[39m \u001b[39m1\u001b[39m:\n\u001b[0;32m     70\u001b[0m     \u001b[39mif\u001b[39;00m (\n\u001b[0;32m     71\u001b[0m         \u001b[39m\"\u001b[39m\u001b[39mNoFrameskip\u001b[39m\u001b[39m\"\u001b[39m \u001b[39mnot\u001b[39;00m \u001b[39min\u001b[39;00m env\u001b[39m.\u001b[39mspec\u001b[39m.\u001b[39mid\n\u001b[0;32m     72\u001b[0m         \u001b[39mand\u001b[39;00m \u001b[39mgetattr\u001b[39m(env\u001b[39m.\u001b[39munwrapped, \u001b[39m\"\u001b[39m\u001b[39m_frameskip\u001b[39m\u001b[39m\"\u001b[39m, \u001b[39mNone\u001b[39;00m) \u001b[39m!=\u001b[39m \u001b[39m1\u001b[39m\n\u001b[0;32m     73\u001b[0m     ):\n\u001b[1;32m---> 74\u001b[0m         \u001b[39mraise\u001b[39;00m \u001b[39mValueError\u001b[39;00m(\n\u001b[0;32m     75\u001b[0m             \u001b[39m\"\u001b[39m\u001b[39mDisable frame-skipping in the original env. Otherwise, more than one \u001b[39m\u001b[39m\"\u001b[39m\n\u001b[0;32m     76\u001b[0m             \u001b[39m\"\u001b[39m\u001b[39mframe-skip will happen as through this wrapper\u001b[39m\u001b[39m\"\u001b[39m\n\u001b[0;32m     77\u001b[0m         )\n\u001b[0;32m     78\u001b[0m \u001b[39mself\u001b[39m\u001b[39m.\u001b[39mnoop_max \u001b[39m=\u001b[39m noop_max\n\u001b[0;32m     79\u001b[0m \u001b[39massert\u001b[39;00m env\u001b[39m.\u001b[39munwrapped\u001b[39m.\u001b[39mget_action_meanings()[\u001b[39m0\u001b[39m] \u001b[39m==\u001b[39m \u001b[39m\"\u001b[39m\u001b[39mNOOP\u001b[39m\u001b[39m\"\u001b[39m\n",
      "\u001b[1;31mValueError\u001b[0m: Disable frame-skipping in the original env. Otherwise, more than one frame-skip will happen as through this wrapper"
     ]
    }
   ],
   "source": [
    "import gym\n",
    "import random, pickle, os.path, math, glob\n",
    "\n",
    "import numpy as np\n",
    "import pandas as pd\n",
    "import matplotlib.pyplot as plt\n",
    "%matplotlib inline\n",
    "\n",
    "import torch\n",
    "import torch.optim as optim\n",
    "import torch.nn as nn\n",
    "import torch.nn.functional as F\n",
    "import torch.autograd as autograd\n",
    "import pdb\n",
    "\n",
    "from gym.wrappers import AtariPreprocessing, LazyFrames, FrameStack\n",
    "\n",
    "from IPython.display import clear_output\n",
    "\n",
    "from torch.utils.tensorboard import SummaryWriter\n",
    "\n",
    "USE_CUDA = torch.cuda.is_available()\n",
    "dtype = torch.cuda.FloatStorage if torch.cuda.is_available() else torch.FloatTensor\n",
    "Variable = lambda *args, **kwargs: autograd.Variable(*args, **kwargs).cuda() if USE_CUDA else autograd.Variable(*args, **kwargs)\n",
    "\n",
    "\n",
    "# create this game from id(string)\n",
    "#env = gym.make('PongNoFramesKip-v4')\n",
    "env = gym.make('Taxi-v3')\n",
    "env = AtariPreprocessing(env, scale_obs=False, terminal_on_life_loss=True,)\n",
    "\n",
    "env = FrameStack(env, num_stack=4)\n",
    "\n",
    "n_actions = env.action_space.np_random\n",
    "state_dim = env.observation_space.shape\n",
    "\n",
    "env.render()\n",
    "test = env.reset()\n",
    "for i in range(100):\n",
    "    test = env.step(env.action_space.sample())[0]\n",
    "\n",
    "plt.imshow(test.__array__()[0,...])\n",
    "env.close()"
   ]
  }
 ],
 "metadata": {
  "kernelspec": {
   "display_name": "Python 3",
   "language": "python",
   "name": "python3"
  },
  "language_info": {
   "codemirror_mode": {
    "name": "ipython",
    "version": 3
   },
   "file_extension": ".py",
   "mimetype": "text/x-python",
   "name": "python",
   "nbconvert_exporter": "python",
   "pygments_lexer": "ipython3",
   "version": "3.10.11"
  },
  "orig_nbformat": 4
 },
 "nbformat": 4,
 "nbformat_minor": 2
}
